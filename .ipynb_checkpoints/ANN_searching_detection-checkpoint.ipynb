{
 "cells": [
  {
   "cell_type": "code",
   "execution_count": 2,
   "metadata": {},
   "outputs": [],
   "source": [
    "import pandas as pd\n",
    "import numpy as np\n",
    "\n",
    "import matplotlib.pyplot as plt\n",
    "\n",
    "from sklearn.model_selection import train_test_split\n",
    "from sklearn.preprocessing import StandardScaler\n",
    "from sklearn.metrics import confusion_matrix\n",
    "from sklearn.model_selection import cross_val_score\n",
    "from sklearn.model_selection import GridSearchCV\n",
    "\n",
    "import keras\n",
    "from keras.models import Sequential\n",
    "from keras.layers import Dense\n",
    "from keras.wrappers.scikit_learn import KerasClassifier\n",
    "from keras.layers import Dropout"
   ]
  },
  {
   "cell_type": "code",
   "execution_count": 3,
   "metadata": {},
   "outputs": [
    {
     "data": {
      "text/html": [
       "<div>\n",
       "<style scoped>\n",
       "    .dataframe tbody tr th:only-of-type {\n",
       "        vertical-align: middle;\n",
       "    }\n",
       "\n",
       "    .dataframe tbody tr th {\n",
       "        vertical-align: top;\n",
       "    }\n",
       "\n",
       "    .dataframe thead th {\n",
       "        text-align: right;\n",
       "    }\n",
       "</style>\n",
       "<table border=\"1\" class=\"dataframe\">\n",
       "  <thead>\n",
       "    <tr style=\"text-align: right;\">\n",
       "      <th></th>\n",
       "      <th>Unnamed: 0</th>\n",
       "      <th>lat</th>\n",
       "      <th>lon</th>\n",
       "      <th>date</th>\n",
       "      <th>speed</th>\n",
       "      <th>double_cross</th>\n",
       "      <th>time_in_range</th>\n",
       "      <th>cluster_proximity</th>\n",
       "      <th>searching</th>\n",
       "    </tr>\n",
       "  </thead>\n",
       "  <tbody>\n",
       "    <tr>\n",
       "      <th>0</th>\n",
       "      <td>0</td>\n",
       "      <td>0.000000</td>\n",
       "      <td>0.000000</td>\n",
       "      <td>0</td>\n",
       "      <td>3.093136</td>\n",
       "      <td>0</td>\n",
       "      <td>0</td>\n",
       "      <td>0.232999</td>\n",
       "      <td>0</td>\n",
       "    </tr>\n",
       "    <tr>\n",
       "      <th>1</th>\n",
       "      <td>1</td>\n",
       "      <td>0.000000</td>\n",
       "      <td>0.000000</td>\n",
       "      <td>0</td>\n",
       "      <td>3.093136</td>\n",
       "      <td>0</td>\n",
       "      <td>0</td>\n",
       "      <td>0.232999</td>\n",
       "      <td>0</td>\n",
       "    </tr>\n",
       "    <tr>\n",
       "      <th>2</th>\n",
       "      <td>2</td>\n",
       "      <td>0.000039</td>\n",
       "      <td>-0.000033</td>\n",
       "      <td>1</td>\n",
       "      <td>4.294210</td>\n",
       "      <td>0</td>\n",
       "      <td>1</td>\n",
       "      <td>0.235498</td>\n",
       "      <td>0</td>\n",
       "    </tr>\n",
       "    <tr>\n",
       "      <th>3</th>\n",
       "      <td>3</td>\n",
       "      <td>0.000070</td>\n",
       "      <td>-0.000096</td>\n",
       "      <td>2</td>\n",
       "      <td>5.172045</td>\n",
       "      <td>0</td>\n",
       "      <td>2</td>\n",
       "      <td>0.239810</td>\n",
       "      <td>0</td>\n",
       "    </tr>\n",
       "    <tr>\n",
       "      <th>4</th>\n",
       "      <td>4</td>\n",
       "      <td>0.000122</td>\n",
       "      <td>-0.000167</td>\n",
       "      <td>3</td>\n",
       "      <td>6.448076</td>\n",
       "      <td>0</td>\n",
       "      <td>3</td>\n",
       "      <td>0.245374</td>\n",
       "      <td>0</td>\n",
       "    </tr>\n",
       "  </tbody>\n",
       "</table>\n",
       "</div>"
      ],
      "text/plain": [
       "   Unnamed: 0       lat       lon  date     speed  double_cross  \\\n",
       "0           0  0.000000  0.000000     0  3.093136             0   \n",
       "1           1  0.000000  0.000000     0  3.093136             0   \n",
       "2           2  0.000039 -0.000033     1  4.294210             0   \n",
       "3           3  0.000070 -0.000096     2  5.172045             0   \n",
       "4           4  0.000122 -0.000167     3  6.448076             0   \n",
       "\n",
       "   time_in_range  cluster_proximity  searching  \n",
       "0              0           0.232999          0  \n",
       "1              0           0.232999          0  \n",
       "2              1           0.235498          0  \n",
       "3              2           0.239810          0  \n",
       "4              3           0.245374          0  "
      ]
     },
     "execution_count": 3,
     "metadata": {},
     "output_type": "execute_result"
    }
   ],
   "source": [
    "#TUTORIAL: https://heartbeat.fritz.ai/introduction-to-deep-learning-with-keras-c7c3d14e1527\n",
    "\n",
    "df = pd.read_csv('dataset/ANN/training.csv')\n",
    "\n",
    "#If you have categorical values, transform them to dummy variables\n",
    "#feats = [‘policy_state’,’insured_sex’,’insured_education_level’,’insured_occupation’,’insured_hobbies’,’insured_relationship’,’collision_type’,’incident_severity’,’authorities_contacted’,’incident_state’,’incident_city’,’incident_location’,’property_damage’,’police_report_available’,’auto_make’,’auto_model’,’fraud_reported’,’incident_type’]\n",
    "#df_final = pd.get_dummies(df,columns=feats,drop_first=True)\n",
    "\n",
    "df.head()"
   ]
  },
  {
   "cell_type": "code",
   "execution_count": 6,
   "metadata": {},
   "outputs": [
    {
     "data": {
      "text/plain": [
       "(array([[3.09313560e+00, 0.00000000e+00, 0.00000000e+00, 2.32998684e-01],\n",
       "        [3.09313560e+00, 0.00000000e+00, 0.00000000e+00, 2.32998684e-01],\n",
       "        [4.29421002e+00, 0.00000000e+00, 1.00000000e+00, 2.35497885e-01],\n",
       "        ...,\n",
       "        [2.39999995e-01, 0.00000000e+00, 5.80000000e+01, 3.28557865e-03],\n",
       "        [2.39999995e-01, 0.00000000e+00, 5.90000000e+01, 3.28557865e-03],\n",
       "        [2.39999995e-01, 0.00000000e+00, 6.00000000e+01, 3.28557865e-03]]),\n",
       " array([0, 0, 0, ..., 1, 1, 1]))"
      ]
     },
     "execution_count": 6,
     "metadata": {},
     "output_type": "execute_result"
    }
   ],
   "source": [
    "#We drop useless columns\n",
    "df_final = df.drop(['Unnamed: 0', 'lat', 'lon', 'date'],axis=1)#'date','lat', 'lon'\n",
    "\n",
    "categories = np.unique(df_final[\"searching\"])\n",
    "\n",
    "columns = ['speed', 'double_cross', 'time_in_range', 'cluster_proximity']\n",
    "\n",
    "\n",
    "#We make sure to drop the column we’re predicting to prevent it from leaking \n",
    "#into the training set and the test set. \n",
    "#We must avoid using the same dataset to train and test the model.\n",
    "\n",
    "X = df_final.drop(['searching'],axis=1).values\n",
    "y = df_final['searching'].values\n",
    "\n",
    "X, y"
   ]
  },
  {
   "cell_type": "code",
   "execution_count": 7,
   "metadata": {},
   "outputs": [],
   "source": [
    "#We then split the data into a training and test set. We use 0.7 of the data for training and 0.3 for testing.\n",
    "\n",
    "#X_train represents the independent variables we’re using to train\n",
    "#y_train represents the column we’re predicting\n",
    "\n",
    "#X_test represents the independent variables we’re using to test\n",
    "#y_test represents the column we’re predicting during tests\n",
    "\n",
    "X_train, X_test, y_train, y_test = train_test_split(X, y, test_size=0.3)\n",
    "\n"
   ]
  },
  {
   "cell_type": "code",
   "execution_count": 63,
   "metadata": {},
   "outputs": [],
   "source": [
    "#Feature scaling standardizes the range of our independent variables.\n",
    "sc = StandardScaler()\n",
    "X_train = sc.fit_transform(X_train)\n",
    "X_test = sc.transform(X_test)"
   ]
  },
  {
   "cell_type": "code",
   "execution_count": 64,
   "metadata": {},
   "outputs": [],
   "source": [
    "#Now we build the ANN\n",
    "classifier = Sequential()"
   ]
  },
  {
   "cell_type": "code",
   "execution_count": 65,
   "metadata": {},
   "outputs": [],
   "source": [
    "#We use the add method to add different layers to our ANN.\n",
    "\n",
    "#We start with the first layer.\n",
    "\n",
    "#The first parameter is the number of nodes you want to add to this layer.\n",
    "#Common strategy: choose the number of nodes as the average of nodes in the input layer \n",
    "#and the number of nodes in the output layer. \n",
    "#In our case 4 independent variable in input, 1 output: 1+4=5/2=2.5=3\n",
    "\n",
    "#The second parameter, kernel_initializer, is the function that will be used to initialize the weights.\n",
    "#In this case, it will use a uniform distribution to make sure that the weights are small numbers close to zero\n",
    "\n",
    "#The next parameter is the activation function. \n",
    "#We use the Rectifier function, shortened as ReLU. We mostly use this function for the hidden layer in ANN.\n",
    "\n",
    "#The final parameter is input_dim, which is the number of nodes in the input layer. \n",
    "#It represents the number of independent variables. \n",
    "#In our case: 4\n",
    "\n",
    "classifier.add(\n",
    "        Dense(3, kernel_initializer = 'uniform',\n",
    "              activation = 'relu', input_dim=len(columns)))"
   ]
  },
  {
   "cell_type": "code",
   "execution_count": 66,
   "metadata": {},
   "outputs": [],
   "source": [
    "#Adding the second hidden layer\n",
    "#We don’t need to specify the input_dim parameter because we have already specified it in the first hidden layer\n",
    "\n",
    "classifier.add(\n",
    "      Dense(3, kernel_initializer = 'uniform',\n",
    "              activation = 'relu'))"
   ]
  },
  {
   "cell_type": "code",
   "execution_count": 67,
   "metadata": {},
   "outputs": [],
   "source": [
    "#Adding the output hidden layer\n",
    "#We change the first parameter because in our output node we expect one node\n",
    "\n",
    "#We change the activation function because we want to get the probabilities that a claim is fraudulent. \n",
    "#We do this by using the Sigmoid activation function.\n",
    "\n",
    "classifier.add(\n",
    "     Dense(1, kernel_initializer = 'uniform',\n",
    "           activation = 'sigmoid'))"
   ]
  },
  {
   "cell_type": "code",
   "execution_count": 68,
   "metadata": {},
   "outputs": [],
   "source": [
    "#Compiling the ANN\n",
    "\n",
    "#Compiling is basically applying a stochastic gradient descent to the whole neural network\n",
    "\n",
    "#The second parameter is the loss function within the stochastic gradient algorithm. \n",
    "#Since our categories are binary, we use the binary_crossentropy\n",
    "\n",
    "#The final argument is the criterion we’ll use to evaluate our model. \n",
    "#In this case we use the accuracy.\n",
    "\n",
    "classifier.compile(optimizer= 'adam',\n",
    "                  loss = 'binary_crossentropy',\n",
    "                  metrics = ['accuracy'])"
   ]
  },
  {
   "cell_type": "code",
   "execution_count": 69,
   "metadata": {},
   "outputs": [],
   "source": [
    "#Fitting our ANN to the training set\n",
    "\n",
    "#Epochs represents the number of times we’re going to pass our full dataset through the ANN.\n",
    "#Batch_size is the number of observations after which the weights will be updated.\n",
    "\n",
    "# Hyper-parameters\n",
    "BATCH_SIZE = 35\n",
    "EPOCHS = 30\n",
    "\n",
    "\n",
    "# fit model\n",
    "#history = classifier.fit(X_train, y_train, validation_split=0.3, batch_size=BATCH_SIZE,epochs=EPOCHS, verbose=1)"
   ]
  },
  {
   "cell_type": "code",
   "execution_count": 70,
   "metadata": {},
   "outputs": [],
   "source": [
    "#Making a single prediction\n",
    "\n",
    "#new_pred = classifier.predict(sc.transform(np.array([[a,b,c,d]])))\n",
    "\n",
    "#Where a,b,c,d represents our 4 features\n",
    "\n",
    "#new_pred = (new_prediction > 0.5)\n",
    "\n",
    "#NB: Since our classifier expects numpy arrays, \n",
    "#we have to transform the single observation into a numpy array and use the standard scaler to scale it."
   ]
  },
  {
   "cell_type": "code",
   "execution_count": 71,
   "metadata": {},
   "outputs": [],
   "source": [
    "#Evaluating the ANN\n",
    "\n",
    "#After training the model one or two times, you’ll notice that you keep getting different accuracies\n",
    "\n",
    "#This introduces the bias variance trade off. \n",
    "#In essence, we’re trying to train a model that will be accurate \n",
    "#and not have too much variance of accuracy when trained several times.\n",
    "\n",
    "#We use the K-fold cross validation with K equal to 10. \n",
    "#This will split the training set into 10 folds. \n",
    "#We’ll then train our model on 9 folds and test it on the remaining fold.\n",
    "\n",
    "#We’re going to do this iteratively through 10 combinations. \n",
    "#Each iteration will gives us its accuracy. We’ll then find the mean of all accuracies.\n",
    "#We also calculate the variance to ensure that it’s minimal.\n",
    "\n",
    "#Keras has a scikit learn wrapper (KerasClassifier) that enables us \n",
    "#to include K-fold cross validation in our Keras code.\n",
    "\n",
    "#The KerasClassifier expects one of its arguments to be a function;\n",
    "#the purpose of this function is to build the architecture of our ANN.\n",
    "\n",
    "\n",
    "def make_classifier():\n",
    "    classifier = Sequential()\n",
    "    classifier.add(Dense(3, kernel_initializer = 'uniform', activation = 'relu', input_dim=len(columns)))\n",
    "    classifier.add(Dense(3, kernel_initializer =  'uniform', activation = 'relu'))\n",
    "    classifier.add(Dense(1, kernel_initializer =  'uniform', activation = 'sigmoid'))\n",
    "    classifier.compile(optimizer= 'adam',loss = 'binary_crossentropy',metrics = ['accuracy'])\n",
    "    return classifier\n",
    "\n",
    "#Here we wrap our previous ANN architecture in a function and return the classifier.\n",
    "\n",
    "\n"
   ]
  },
  {
   "cell_type": "code",
   "execution_count": 72,
   "metadata": {},
   "outputs": [
    {
     "name": "stdout",
     "output_type": "stream",
     "text": [
      "Epoch 1/30\n",
      "1153/1153 [==============================] - 2s 2ms/step - loss: 0.5964 - accuracy: 0.6494 - val_loss: 0.5774 - val_accuracy: 0.6436\n",
      "Epoch 2/30\n",
      "1153/1153 [==============================] - 2s 1ms/step - loss: 0.5727 - accuracy: 0.6494 - val_loss: 0.5769 - val_accuracy: 0.6436\n",
      "Epoch 3/30\n",
      "1153/1153 [==============================] - 2s 1ms/step - loss: 0.5727 - accuracy: 0.6485 - val_loss: 0.5769 - val_accuracy: 0.6436\n",
      "Epoch 4/30\n",
      "1153/1153 [==============================] - 2s 1ms/step - loss: 0.5725 - accuracy: 0.6479 - val_loss: 0.5768 - val_accuracy: 0.6436\n",
      "Epoch 5/30\n",
      "1153/1153 [==============================] - 2s 1ms/step - loss: 0.5720 - accuracy: 0.6494 - val_loss: 0.5761 - val_accuracy: 0.6436\n",
      "Epoch 6/30\n",
      "1153/1153 [==============================] - 2s 1ms/step - loss: 0.5689 - accuracy: 0.6716 - val_loss: 0.5712 - val_accuracy: 0.6766\n",
      "Epoch 7/30\n",
      "1153/1153 [==============================] - 2s 2ms/step - loss: 0.5649 - accuracy: 0.6833 - val_loss: 0.5674 - val_accuracy: 0.6826\n",
      "Epoch 8/30\n",
      "1153/1153 [==============================] - 2s 2ms/step - loss: 0.5623 - accuracy: 0.6872 - val_loss: 0.5656 - val_accuracy: 0.6847\n",
      "Epoch 9/30\n",
      "1153/1153 [==============================] - 2s 2ms/step - loss: 0.5611 - accuracy: 0.6907 - val_loss: 0.5648 - val_accuracy: 0.6861\n",
      "Epoch 10/30\n",
      "1153/1153 [==============================] - 2s 2ms/step - loss: 0.5602 - accuracy: 0.6919 - val_loss: 0.5639 - val_accuracy: 0.6872\n",
      "Epoch 11/30\n",
      "1153/1153 [==============================] - 2s 2ms/step - loss: 0.5596 - accuracy: 0.6918 - val_loss: 0.5641 - val_accuracy: 0.6885\n",
      "Epoch 12/30\n",
      "1153/1153 [==============================] - 2s 2ms/step - loss: 0.5591 - accuracy: 0.6914 - val_loss: 0.5629 - val_accuracy: 0.6880\n",
      "Epoch 13/30\n",
      "1153/1153 [==============================] - 2s 2ms/step - loss: 0.5587 - accuracy: 0.6927 - val_loss: 0.5627 - val_accuracy: 0.6865\n",
      "Epoch 14/30\n",
      "1153/1153 [==============================] - 2s 2ms/step - loss: 0.5583 - accuracy: 0.6918 - val_loss: 0.5629 - val_accuracy: 0.6884\n",
      "Epoch 15/30\n",
      "1153/1153 [==============================] - 2s 2ms/step - loss: 0.5582 - accuracy: 0.6932 - val_loss: 0.5624 - val_accuracy: 0.6880\n",
      "Epoch 16/30\n",
      "1153/1153 [==============================] - 2s 2ms/step - loss: 0.5580 - accuracy: 0.6924 - val_loss: 0.5623 - val_accuracy: 0.6881\n",
      "Epoch 17/30\n",
      "1153/1153 [==============================] - 2s 1ms/step - loss: 0.5578 - accuracy: 0.6929 - val_loss: 0.5621 - val_accuracy: 0.6889\n",
      "Epoch 18/30\n",
      "1153/1153 [==============================] - 2s 2ms/step - loss: 0.5577 - accuracy: 0.6915 - val_loss: 0.5623 - val_accuracy: 0.6872\n",
      "Epoch 19/30\n",
      "1153/1153 [==============================] - 2s 2ms/step - loss: 0.5575 - accuracy: 0.6915 - val_loss: 0.5617 - val_accuracy: 0.6877\n",
      "Epoch 20/30\n",
      "1153/1153 [==============================] - 2s 2ms/step - loss: 0.5573 - accuracy: 0.6919 - val_loss: 0.5615 - val_accuracy: 0.6880\n",
      "Epoch 21/30\n",
      "1153/1153 [==============================] - 2s 2ms/step - loss: 0.5572 - accuracy: 0.6922 - val_loss: 0.5614 - val_accuracy: 0.6877\n",
      "Epoch 22/30\n",
      "1153/1153 [==============================] - 2s 2ms/step - loss: 0.5568 - accuracy: 0.6924 - val_loss: 0.5609 - val_accuracy: 0.6885\n",
      "Epoch 23/30\n",
      "1153/1153 [==============================] - 2s 1ms/step - loss: 0.5567 - accuracy: 0.6930 - val_loss: 0.5615 - val_accuracy: 0.6876\n",
      "Epoch 24/30\n",
      "1153/1153 [==============================] - 2s 2ms/step - loss: 0.5565 - accuracy: 0.6926 - val_loss: 0.5607 - val_accuracy: 0.6889\n",
      "Epoch 25/30\n",
      "1153/1153 [==============================] - 2s 2ms/step - loss: 0.5564 - accuracy: 0.6930 - val_loss: 0.5604 - val_accuracy: 0.6875\n",
      "Epoch 26/30\n",
      "1153/1153 [==============================] - 2s 2ms/step - loss: 0.5563 - accuracy: 0.6930 - val_loss: 0.5610 - val_accuracy: 0.6882\n",
      "Epoch 27/30\n",
      "1153/1153 [==============================] - 2s 2ms/step - loss: 0.5561 - accuracy: 0.6940 - val_loss: 0.5603 - val_accuracy: 0.6885\n",
      "Epoch 28/30\n",
      "1153/1153 [==============================] - 2s 2ms/step - loss: 0.5561 - accuracy: 0.6925 - val_loss: 0.5609 - val_accuracy: 0.6891\n",
      "Epoch 29/30\n",
      "1153/1153 [==============================] - 2s 2ms/step - loss: 0.5560 - accuracy: 0.6918 - val_loss: 0.5599 - val_accuracy: 0.6905\n",
      "Epoch 30/30\n",
      "1153/1153 [==============================] - 2s 1ms/step - loss: 0.5558 - accuracy: 0.6935 - val_loss: 0.5599 - val_accuracy: 0.6902\n"
     ]
    }
   ],
   "source": [
    "#Create a new classifier using K-fold cross validation a\n",
    "#and pass the parameter build_fn as the function we just created above.\n",
    "\n",
    "classifier = KerasClassifier(build_fn = make_classifier,\n",
    "                            batch_size=BATCH_SIZE, nb_epoch=EPOCHS)\n",
    "\n",
    "#We train our classifier again\n",
    "history = classifier.fit(X_train, y_train, validation_split=0.3, batch_size = BATCH_SIZE, epochs = EPOCHS)"
   ]
  },
  {
   "cell_type": "code",
   "execution_count": 73,
   "metadata": {},
   "outputs": [
    {
     "name": "stdout",
     "output_type": "stream",
     "text": [
      "[[ True]\n",
      " [False]\n",
      " [False]\n",
      " ...\n",
      " [ True]\n",
      " [False]\n",
      " [False]]\n"
     ]
    }
   ],
   "source": [
    "#Predicting using the training set\n",
    "\n",
    "#This will show us the probability of a searching status.\n",
    "#We then set a threshold of 50% for classifying a status as 'searching'.\n",
    "#Any status with a probability of 0.5 or more will be classified as 'searching'.\n",
    "\n",
    "y_pred = classifier.predict(X_test).astype(\"int32\")\n",
    "y_pred = (y_pred > 0.5)\n",
    "\n",
    "print(y_pred)"
   ]
  },
  {
   "cell_type": "code",
   "execution_count": 74,
   "metadata": {},
   "outputs": [
    {
     "data": {
      "text/plain": [
       "array([[13765,  2221],\n",
       "       [ 5366,  3353]])"
      ]
     },
     "execution_count": 74,
     "metadata": {},
     "output_type": "execute_result"
    }
   ],
   "source": [
    "#Checking the confusion matrix\n",
    "\n",
    "cm = confusion_matrix(y_test, y_pred)\n",
    "\n",
    "cm"
   ]
  },
  {
   "cell_type": "code",
   "execution_count": 75,
   "metadata": {},
   "outputs": [
    {
     "data": {
      "image/png": "[encoded data removed]",
      "text/plain": [
       "<Figure size 432x288 with 1 Axes>"
      ]
     },
     "metadata": {},
     "output_type": "display_data"
    },
    {
     "data": {
      "image/png": "[encoded data removed]",
      "text/plain": [
       "<Figure size 432x288 with 1 Axes>"
      ]
     },
     "metadata": {},
     "output_type": "display_data"
    }
   ],
   "source": [
    "# summarize history for accuracy and loss\n",
    "plt.figure(figsize=(6, 4))\n",
    "plt.plot(history.history['accuracy'], \"g--\", label=\"Accuracy of training data\")\n",
    "plt.plot(history.history['val_accuracy'], \"g\", label=\"Accuracy of validation data\")\n",
    "plt.title('Model Accuracy')\n",
    "plt.ylabel('Accuracy')\n",
    "plt.xlabel('Training Epoch')\n",
    "axes = plt.gca()\n",
    "axes.set_ylim([0,1])\n",
    "plt.ylim(0)\n",
    "plt.legend()\n",
    "plt.show()\n",
    "\n",
    "# summarize history for accuracy and loss\n",
    "plt.figure(figsize=(6, 4))\n",
    "plt.plot(history.history['loss'], \"r--\", label=\"Loss of training data\")\n",
    "plt.plot(history.history['val_loss'], \"r\", label=\"Loss of validation data\")\n",
    "plt.title('Model Loss')\n",
    "plt.ylabel('Loss')\n",
    "plt.xlabel('Training Epoch')\n",
    "plt.ylim(0)\n",
    "plt.legend()\n",
    "plt.show()"
   ]
  },
  {
   "cell_type": "code",
   "execution_count": 76,
   "metadata": {},
   "outputs": [
    {
     "data": {
      "text/plain": [
       "array([0.65255857, 0.63937557, 0.69210756, 0.66394866, 0.68528801,\n",
       "       0.68459404, 0.64555866, 0.65405971, 0.6384455 , 0.63827205])"
      ]
     },
     "execution_count": 76,
     "metadata": {},
     "output_type": "execute_result"
    }
   ],
   "source": [
    "#This function will return the ten accuracies of the ten test folds used in the computation.\n",
    "\n",
    "#n_jobs=-1 will make use of all available CPUs. \n",
    "#cv is the number of folds and 10 is a typical choice.\n",
    "\n",
    "accuracies = cross_val_score(estimator = classifier,\n",
    "                             X = X_train,\n",
    "                             y = y_train,\n",
    "                             cv = 10,\n",
    "                             n_jobs = -1)\n",
    "\n",
    "accuracies"
   ]
  },
  {
   "cell_type": "code",
   "execution_count": 77,
   "metadata": {},
   "outputs": [
    {
     "data": {
      "text/plain": [
       "(0.6594208300113678, 0.00039487651477049474)"
      ]
     },
     "execution_count": 77,
     "metadata": {},
     "output_type": "execute_result"
    }
   ],
   "source": [
    "#To obtain the relative accuracies we get the mean of the accuracies.\n",
    "\n",
    "mean = accuracies.mean()\n",
    "\n",
    "#Then the variance.\n",
    "\n",
    "variance = accuracies.var()\n",
    "\n",
    "#Goal: to have a small variance between the accuracies.\n",
    "\n",
    "mean, variance"
   ]
  },
  {
   "cell_type": "code",
   "execution_count": 21,
   "metadata": {},
   "outputs": [],
   "source": [
    "#Fighting Overfitting\n",
    "\n",
    "#Overfitting in machine learning is what happens when a model learns the details and noise in the training set \n",
    "#such that it performs poorly on the test set -> it happens  when we have huge differences between \n",
    "#the accuracies of the test set and training set, \n",
    "#or when you observe a high variance when applying k-fold cross validation.\n",
    "\n",
    "#In ANN, we counteract this using the Dropout Regularization technique, which works by randomly disabling \n",
    "#some neurons at each iteration of the training \n",
    "#to prevent them from being too dependent on each other.\n",
    "\n",
    "classifier = Sequential()\n",
    "classifier.add(Dense(3, kernel_initializer = 'uniform', activation = 'relu', input_dim=len(columns)))\n",
    "\n",
    "# Notice the dropouts\n",
    "classifier.add(Dropout(rate = 0.1))\n",
    "classifier.add(Dense(6, kernel_initializer = 'uniform', activation = 'relu'))\n",
    "classifier.add(Dropout(rate = 0.1))\n",
    "\n",
    "#We used dropout after the first hidden layer and after the second hidden layer\n",
    "#Rate of 0.1 means that 1% of the neurons will be disabled at each iteration. \n",
    "#It should be always between 0.1 and 0.4 (to avoid underfitting)\n",
    "\n",
    "classifier.add(Dense(1, kernel_initializer = 'uniform', activation = 'sigmoid'))\n",
    "classifier.compile(optimizer= 'adam',loss = 'binary_crossentropy',metrics = ['accuracy'])"
   ]
  },
  {
   "cell_type": "code",
   "execution_count": 22,
   "metadata": {},
   "outputs": [],
   "source": [
    "#Parameter Tuning\n",
    "\n",
    "#Tune the parameters to get a higher accuracy\n",
    "\n",
    "#Modify our make_classifier\n",
    "#Create a new variable called optimizer \n",
    "#that will allow us to add more than one optimizer in our params variable\n",
    "#(earlier we were using only the Adam algorithm)\n",
    "\n",
    "def make_classifier(optimizer):\n",
    "    classifier = Sequential()\n",
    "    classifier.add(Dense(3, kernel_initializer = 'uniform', activation = 'relu', input_dim=len(columns)))\n",
    "    classifier.add(Dense(3, kernel_initializer =  'uniform', activation = 'relu'))\n",
    "    classifier.add(Dense(1, kernel_initializer =  'uniform', activation = 'sigmoid'))\n",
    "    classifier.compile(optimizer= optimizer,loss = 'binary_crossentropy',metrics = ['accuracy'])\n",
    "    return classifier\n",
    "\n"
   ]
  },
  {
   "cell_type": "code",
   "execution_count": 23,
   "metadata": {},
   "outputs": [],
   "source": [
    "#We’ll still use the KerasClassifier, \n",
    "#but we won’t pass the batch size and number of epochs \n",
    "#since these are the parameters we want to tune.\n",
    "\n",
    "classifier = KerasClassifier(build_fn = make_classifier)\n",
    "\n",
    "#Create a dictionary with the parameters we’d like to tune \n",
    "\n",
    "params = {\n",
    "    'batch_size':[20,35],\n",
    "    'nb_epoch':[150,500],\n",
    "    'optimizer':['adam','rmsprop']\n",
    "}\n",
    "\n",
    "#We then use Grid Search to test these parameters.\n",
    "#It expects our estimator, the parameters we just defined, the scoring metric and the number of k-folds.\n",
    "\n",
    "grid_search = GridSearchCV(estimator=classifier,\n",
    "                           param_grid=params,\n",
    "                           scoring='accuracy',\n",
    "                           cv=10)"
   ]
  },
  {
   "cell_type": "code",
   "execution_count": 68,
   "metadata": {},
   "outputs": [
    {
     "name": "stdout",
     "output_type": "stream",
     "text": [
      "2405/2405 [==============================] - 2s 1ms/step - loss: 0.5895 - accuracy: 0.6650\n",
      "WARNING:tensorflow:From /usr/local/lib/python3.7/site-packages/tensorflow/python/keras/wrappers/scikit_learn.py:241: Sequential.predict_classes (from tensorflow.python.keras.engine.sequential) is deprecated and will be removed after 2021-01-01.\n",
      "Instructions for updating:\n",
      "Please use instead:* `np.argmax(model.predict(x), axis=-1)`,   if your model does multi-class classification   (e.g. if it uses a `softmax` last-layer activation).* `(model.predict(x) > 0.5).astype(\"int32\")`,   if your model does binary classification   (e.g. if it uses a `sigmoid` last-layer activation).\n",
      "2405/2405 [==============================] - 4s 1ms/step - loss: 0.6590 - accuracy: 0.6398\n",
      "2405/2405 [==============================] - 3s 1ms/step - loss: 0.5903 - accuracy: 0.6403\n",
      "2405/2405 [==============================] - 2s 1ms/step - loss: 0.6340 - accuracy: 0.6553\n",
      "2405/2405 [==============================] - 2s 1ms/step - loss: 0.5892 - accuracy: 0.6397\n",
      "2405/2405 [==============================] - 2s 979us/step - loss: 0.5887 - accuracy: 0.6404\n",
      "2405/2405 [==============================] - 2s 997us/step - loss: 0.5892 - accuracy: 0.6395\n",
      "2405/2405 [==============================] - 2s 998us/step - loss: 0.5889 - accuracy: 0.6417\n",
      "2405/2405 [==============================] - 2s 1ms/step - loss: 0.6324 - accuracy: 0.6537\n",
      "2405/2405 [==============================] - 2s 1ms/step - loss: 0.5888 - accuracy: 0.6662\n",
      "2405/2405 [==============================] - 3s 1ms/step - loss: 0.5925 - accuracy: 0.6428\n",
      "2405/2405 [==============================] - 2s 1ms/step - loss: 0.5946 - accuracy: 0.6583\n",
      "2405/2405 [==============================] - 2s 1ms/step - loss: 0.5917 - accuracy: 0.6572\n",
      "2405/2405 [==============================] - 2s 1ms/step - loss: 0.6383 - accuracy: 0.6530\n",
      "2405/2405 [==============================] - 2s 1ms/step - loss: 0.6202 - accuracy: 0.6554\n",
      "2405/2405 [==============================] - 3s 1ms/step - loss: 0.6581 - accuracy: 0.6404\n",
      "2405/2405 [==============================] - 3s 1ms/step - loss: 0.5945 - accuracy: 0.6593\n",
      "2405/2405 [==============================] - 2s 1ms/step - loss: 0.5949 - accuracy: 0.6599\n",
      "2405/2405 [==============================] - 3s 1ms/step - loss: 0.5983 - accuracy: 0.6424\n",
      "2405/2405 [==============================] - 2s 1ms/step - loss: 0.5986 - accuracy: 0.6406\n",
      "2405/2405 [==============================] - 3s 1ms/step - loss: 0.6294 - accuracy: 0.6574\n",
      "2405/2405 [==============================] - 2s 1ms/step - loss: 0.6312 - accuracy: 0.6561\n",
      "2405/2405 [==============================] - 3s 1ms/step - loss: 0.5844 - accuracy: 0.6701\n",
      "2405/2405 [==============================] - 3s 1ms/step - loss: 0.5918 - accuracy: 0.6413: 0s - loss: 0.5942 - accura\n",
      "2405/2405 [==============================] - 2s 1ms/step - loss: 0.5901 - accuracy: 0.6660\n",
      "2405/2405 [==============================] - 3s 1ms/step - loss: 0.6278 - accuracy: 0.6639\n",
      "2405/2405 [==============================] - 3s 1ms/step - loss: 0.5891 - accuracy: 0.6406\n",
      "2405/2405 [==============================] - 3s 1ms/step - loss: 0.5890 - accuracy: 0.6378\n",
      "2405/2405 [==============================] - 3s 1ms/step - loss: 0.5867 - accuracy: 0.6669\n",
      "2405/2405 [==============================] - 2s 1ms/step - loss: 0.5855 - accuracy: 0.6682\n",
      "2405/2405 [==============================] - 2s 1ms/step - loss: 0.6016 - accuracy: 0.6562\n",
      "2405/2405 [==============================] - 3s 1ms/step - loss: 0.6369 - accuracy: 0.6524\n",
      "2405/2405 [==============================] - 3s 1ms/step - loss: 0.5910 - accuracy: 0.6653\n",
      "2405/2405 [==============================] - 3s 1ms/step - loss: 0.5984 - accuracy: 0.6393\n",
      "2405/2405 [==============================] - 3s 1ms/step - loss: 0.5965 - accuracy: 0.6409\n",
      "2405/2405 [==============================] - 3s 1ms/step - loss: 0.6364 - accuracy: 0.6541\n",
      "2405/2405 [==============================] - 3s 1ms/step - loss: 0.5956 - accuracy: 0.6408\n",
      "2405/2405 [==============================] - 2s 1ms/step - loss: 0.5973 - accuracy: 0.6451\n",
      "2405/2405 [==============================] - 3s 1ms/step - loss: 0.5974 - accuracy: 0.6392\n",
      "2405/2405 [==============================] - 3s 1ms/step - loss: 0.5997 - accuracy: 0.6405\n",
      "1374/1374 [==============================] - 1s 1ms/step - loss: 0.6056 - accuracy: 0.6536\n",
      "1374/1374 [==============================] - 1s 1ms/step - loss: 0.6427 - accuracy: 0.6549\n",
      "1374/1374 [==============================] - 2s 1ms/step - loss: 0.6019 - accuracy: 0.6418: 0s - loss: 0.608\n",
      "1374/1374 [==============================] - 2s 1ms/step - loss: 0.6034 - accuracy: 0.6411\n",
      "1374/1374 [==============================] - 2s 1ms/step - loss: 0.6610 - accuracy: 0.6407\n",
      "1374/1374 [==============================] - 2s 1ms/step - loss: 0.5980 - accuracy: 0.6576\n",
      "1374/1374 [==============================] - 2s 1ms/step - loss: 0.6024 - accuracy: 0.6411\n",
      "1374/1374 [==============================] - 1s 1000us/step - loss: 0.5965 - accuracy: 0.6402\n",
      "1374/1374 [==============================] - 2s 1ms/step - loss: 0.6054 - accuracy: 0.6399\n",
      "1374/1374 [==============================] - 1s 1ms/step - loss: 0.6065 - accuracy: 0.6579\n",
      "1374/1374 [==============================] - 1s 999us/step - loss: 0.6299 - accuracy: 0.6482\n",
      "1374/1374 [==============================] - 1s 987us/step - loss: 0.6055 - accuracy: 0.6396\n",
      "1374/1374 [==============================] - 1s 1ms/step - loss: 0.6599 - accuracy: 0.6415\n",
      "1374/1374 [==============================] - 1s 1ms/step - loss: 0.6066 - accuracy: 0.6582\n",
      "1374/1374 [==============================] - 1s 1ms/step - loss: 0.6602 - accuracy: 0.6409\n",
      "1374/1374 [==============================] - 1s 1ms/step - loss: 0.6021 - accuracy: 0.6404\n",
      "1374/1374 [==============================] - 1s 983us/step - loss: 0.6048 - accuracy: 0.6552\n",
      "1374/1374 [==============================] - 2s 1ms/step - loss: 0.6028 - accuracy: 0.6407\n",
      "1374/1374 [==============================] - 3s 2ms/step - loss: 0.6455 - accuracy: 0.6502\n",
      "1374/1374 [==============================] - 2s 2ms/step - loss: 0.6470 - accuracy: 0.6478\n",
      "1374/1374 [==============================] - 2s 1ms/step - loss: 0.6046 - accuracy: 0.6403\n",
      "1374/1374 [==============================] - 2s 1ms/step - loss: 0.6085 - accuracy: 0.6395\n",
      "1374/1374 [==============================] - 2s 1ms/step - loss: 0.6057 - accuracy: 0.6415\n",
      "1374/1374 [==============================] - 2s 1ms/step - loss: 0.5967 - accuracy: 0.6418\n",
      "1374/1374 [==============================] - 1s 1ms/step - loss: 0.6455 - accuracy: 0.6546\n",
      "1374/1374 [==============================] - 2s 1ms/step - loss: 0.6609 - accuracy: 0.6405\n",
      "1374/1374 [==============================] - 2s 1ms/step - loss: 0.5981 - accuracy: 0.6411\n",
      "1374/1374 [==============================] - 2s 2ms/step - loss: 0.6424 - accuracy: 0.6546\n",
      "1374/1374 [==============================] - 2s 1ms/step - loss: 0.6456 - accuracy: 0.6520\n",
      "1374/1374 [==============================] - 2s 1ms/step - loss: 0.5970 - accuracy: 0.6598\n",
      "1374/1374 [==============================] - 3s 2ms/step - loss: 0.6087 - accuracy: 0.6523\n",
      "1374/1374 [==============================] - 2s 1ms/step - loss: 0.6111 - accuracy: 0.6466\n",
      "1374/1374 [==============================] - 2s 1ms/step - loss: 0.6099 - accuracy: 0.6417\n",
      "1374/1374 [==============================] - 1s 1ms/step - loss: 0.6115 - accuracy: 0.6522\n",
      "1374/1374 [==============================] - 1s 996us/step - loss: 0.6477 - accuracy: 0.6485\n",
      "1374/1374 [==============================] - 1s 1ms/step - loss: 0.6428 - accuracy: 0.6539\n",
      "1374/1374 [==============================] - 1s 1ms/step - loss: 0.6017 - accuracy: 0.6564\n",
      "1374/1374 [==============================] - 4s 3ms/step - loss: 0.6485 - accuracy: 0.6477\n",
      "1374/1374 [==============================] - 2s 1ms/step - loss: 0.6398 - accuracy: 0.6503\n",
      "1374/1374 [==============================] - 2s 1ms/step - loss: 0.6119 - accuracy: 0.6405\n",
      "2672/2672 [==============================] - 3s 1ms/step - loss: 0.6233 - accuracy: 0.6654\n"
     ]
    },
    {
     "data": {
      "text/plain": [
       "({'batch_size': 20, 'nb_epoch': 500, 'optimizer': 'adam'}, 0.6671976538966404)"
      ]
     },
     "execution_count": 68,
     "metadata": {},
     "output_type": "execute_result"
    }
   ],
   "source": [
    "#we need to fit our training set.\n",
    "\n",
    "grid_search = grid_search.fit(X_train,y_train)\n",
    "\n",
    "#we get the best selection of parameters using best_params from the grid search object\n",
    "\n",
    "best_param = grid_search.best_params_\n",
    "\n",
    "#we get the best accuracy score using best_score_\n",
    "\n",
    "best_accuracy = grid_search.best_score_\n",
    "\n",
    "#NB: this process will take a while\n",
    "\n",
    "best_param, best_accuracy\n"
   ]
  },
  {
   "cell_type": "code",
   "execution_count": null,
   "metadata": {},
   "outputs": [],
   "source": []
  }
 ],
 "metadata": {
  "kernelspec": {
   "display_name": "Python 3",
   "language": "python",
   "name": "python3"
  },
  "language_info": {
   "codemirror_mode": {
    "name": "ipython",
    "version": 3
   },
   "file_extension": ".py",
   "mimetype": "text/x-python",
   "name": "python",
   "nbconvert_exporter": "python",
   "pygments_lexer": "ipython3",
   "version": "3.7.9"
  }
 },
 "nbformat": 4,
 "nbformat_minor": 4
}
